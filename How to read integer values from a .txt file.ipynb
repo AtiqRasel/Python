{
 "cells": [
  {
   "cell_type": "markdown",
   "id": "0d08c0c6",
   "metadata": {},
   "source": [
    "## How to read integer values from a .txt file"
   ]
  },
  {
   "cell_type": "code",
   "execution_count": 31,
   "id": "e477a514",
   "metadata": {},
   "outputs": [
    {
     "data": {
      "text/plain": [
       "str"
      ]
     },
     "execution_count": 31,
     "metadata": {},
     "output_type": "execute_result"
    }
   ],
   "source": [
    "\n",
    "with open('abc.txt') as f:\n",
    "    lines = f.readlines()\n",
    "    lines1=''.join(lines)\n",
    "    #for i in lines.split():\n",
    "    #    Numbers.append(int(i))\n",
    "        \n",
    "type(lines1)"
   ]
  },
  {
   "cell_type": "code",
   "execution_count": 32,
   "id": "878aa956",
   "metadata": {},
   "outputs": [
    {
     "data": {
      "text/plain": [
       "'1 2 3 4 5 6 78 23\\n34 56 78 9\\n'"
      ]
     },
     "execution_count": 32,
     "metadata": {},
     "output_type": "execute_result"
    }
   ],
   "source": [
    "lines1"
   ]
  },
  {
   "cell_type": "code",
   "execution_count": 33,
   "id": "6a13dbed",
   "metadata": {},
   "outputs": [
    {
     "data": {
      "text/plain": [
       "[1, 2, 3, 4, 5, 6, 78, 23, 34, 56, 78, 9]"
      ]
     },
     "execution_count": 33,
     "metadata": {},
     "output_type": "execute_result"
    }
   ],
   "source": [
    "numbers = [int(word) for word in lines1.split() if word.isdigit()]\n",
    "numbers"
   ]
  },
  {
   "cell_type": "code",
   "execution_count": null,
   "id": "c3f924e2",
   "metadata": {},
   "outputs": [],
   "source": []
  }
 ],
 "metadata": {
  "kernelspec": {
   "display_name": "Python 3",
   "language": "python",
   "name": "python3"
  },
  "language_info": {
   "codemirror_mode": {
    "name": "ipython",
    "version": 3
   },
   "file_extension": ".py",
   "mimetype": "text/x-python",
   "name": "python",
   "nbconvert_exporter": "python",
   "pygments_lexer": "ipython3",
   "version": "3.8.8"
  }
 },
 "nbformat": 4,
 "nbformat_minor": 5
}
