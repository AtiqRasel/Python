{
 "cells": [
  {
   "cell_type": "markdown",
   "id": "8b9a2017",
   "metadata": {},
   "source": [
    "## How to write data in a .txt file"
   ]
  },
  {
   "cell_type": "code",
   "execution_count": 3,
   "id": "5a4ba888",
   "metadata": {},
   "outputs": [],
   "source": [
    "#open text file\n",
    "text_file = open(\"D:/data.txt\", \"w\")\n",
    " \n",
    "#write string to file\n",
    "text_file.write('Python Tutorial created by Atiq.')\n",
    " \n",
    "#close file\n",
    "text_file.close()"
   ]
  },
  {
   "cell_type": "code",
   "execution_count": null,
   "id": "78bf7999",
   "metadata": {},
   "outputs": [],
   "source": []
  },
  {
   "cell_type": "code",
   "execution_count": null,
   "id": "fb5ac6cc",
   "metadata": {},
   "outputs": [],
   "source": []
  }
 ],
 "metadata": {
  "kernelspec": {
   "display_name": "Python 3",
   "language": "python",
   "name": "python3"
  },
  "language_info": {
   "codemirror_mode": {
    "name": "ipython",
    "version": 3
   },
   "file_extension": ".py",
   "mimetype": "text/x-python",
   "name": "python",
   "nbconvert_exporter": "python",
   "pygments_lexer": "ipython3",
   "version": "3.8.8"
  }
 },
 "nbformat": 4,
 "nbformat_minor": 5
}
