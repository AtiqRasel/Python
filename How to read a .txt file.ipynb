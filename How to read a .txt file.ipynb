{
 "cells": [
  {
   "cell_type": "markdown",
   "id": "40798472",
   "metadata": {},
   "source": [
    "## How to read a .txt file"
   ]
  },
  {
   "cell_type": "code",
   "execution_count": 9,
   "id": "2f29a2bf",
   "metadata": {},
   "outputs": [],
   "source": [
    "with open('requirements.txt','r') as f:\n",
    "    lines=f.readlines()"
   ]
  },
  {
   "cell_type": "code",
   "execution_count": 10,
   "id": "cc45c3f3",
   "metadata": {},
   "outputs": [
    {
     "data": {
      "text/plain": [
       "['certifi==2020.6.20\\n',\n",
       " 'chardet==3.0.4\\n',\n",
       " 'click==7.1.2\\n',\n",
       " 'cmake==3.18.2.post1\\n',\n",
       " 'decorator==4.4.2\\n',\n",
       " 'dlib==19.18.0\\n',\n",
       " 'face-recognition==1.3.0\\n',\n",
       " 'face-recognition-models==0.3.0\\n',\n",
       " 'idna==2.10\\n',\n",
       " 'imageio==2.9.0\\n',\n",
       " 'imageio-ffmpeg==0.4.2\\n',\n",
       " 'moviepy==1.0.3\\n',\n",
       " 'numpy==1.18.4\\n',\n",
       " 'opencv-python==4.4.0.46\\n',\n",
       " 'Pillow==8.0.1\\n',\n",
       " 'proglog==0.1.9\\n',\n",
       " 'requests==2.24.0\\n',\n",
       " 'tqdm==4.51.0\\n',\n",
       " 'urllib3==1.25.11\\n',\n",
       " 'wincertstore==0.2\\n']"
      ]
     },
     "execution_count": 10,
     "metadata": {},
     "output_type": "execute_result"
    }
   ],
   "source": [
    "lines"
   ]
  },
  {
   "cell_type": "code",
   "execution_count": null,
   "id": "c2bcf0a2",
   "metadata": {},
   "outputs": [],
   "source": []
  }
 ],
 "metadata": {
  "kernelspec": {
   "display_name": "Python 3",
   "language": "python",
   "name": "python3"
  },
  "language_info": {
   "codemirror_mode": {
    "name": "ipython",
    "version": 3
   },
   "file_extension": ".py",
   "mimetype": "text/x-python",
   "name": "python",
   "nbconvert_exporter": "python",
   "pygments_lexer": "ipython3",
   "version": "3.8.8"
  }
 },
 "nbformat": 4,
 "nbformat_minor": 5
}
