{
 "cells": [
  {
   "cell_type": "markdown",
   "id": "466df37c",
   "metadata": {},
   "source": [
    "## np.delete(): Remove items/rows/columns from Numpy Array"
   ]
  },
  {
   "cell_type": "code",
   "execution_count": 7,
   "id": "3036627c",
   "metadata": {},
   "outputs": [],
   "source": [
    "import numpy as np"
   ]
  },
  {
   "cell_type": "markdown",
   "id": "7542538b",
   "metadata": {},
   "source": [
    "## Delete an element in 1D Numpy Array by Index position"
   ]
  },
  {
   "cell_type": "code",
   "execution_count": 8,
   "id": "dad450d6",
   "metadata": {},
   "outputs": [
    {
     "data": {
      "text/plain": [
       "array([ 4,  5,  6,  7,  8,  9, 10, 11])"
      ]
     },
     "execution_count": 8,
     "metadata": {},
     "output_type": "execute_result"
    }
   ],
   "source": [
    "# Create a Numpy array from list of numbers\n",
    "arr = np.array([4,5,6,7,8,9,10,11])\n",
    "arr"
   ]
  },
  {
   "cell_type": "code",
   "execution_count": 9,
   "id": "600f7f42",
   "metadata": {},
   "outputs": [
    {
     "data": {
      "text/plain": [
       "array([ 4,  5,  7,  8,  9, 10, 11])"
      ]
     },
     "execution_count": 9,
     "metadata": {},
     "output_type": "execute_result"
    }
   ],
   "source": [
    "                                                                # Delete element at index position 2\n",
    "arr = np.delete(arr, 2)  #Delete the element 6 from the position 2\n",
    "arr"
   ]
  },
  {
   "cell_type": "markdown",
   "id": "58840103",
   "metadata": {},
   "source": [
    "## Delete multiple elements in 1D Numpy Array by Index position"
   ]
  },
  {
   "cell_type": "code",
   "execution_count": 10,
   "id": "92dcb7df",
   "metadata": {},
   "outputs": [
    {
     "data": {
      "text/plain": [
       "array([ 4,  8,  9, 10, 11])"
      ]
     },
     "execution_count": 10,
     "metadata": {},
     "output_type": "execute_result"
    }
   ],
   "source": [
    "# Create a Numpy array from list of numbers\n",
    "arr = np.array([4, 5, 6, 7, 8, 9, 10, 11])\n",
    "                                                        # Delete element at index positions 1,2 and 3\n",
    "arr = np.delete(arr, [1,2,3])\n",
    "arr"
   ]
  },
  {
   "cell_type": "markdown",
   "id": "d43d9395",
   "metadata": {},
   "source": [
    "## Delete rows & columns from a 2D Numpy Array"
   ]
  },
  {
   "cell_type": "code",
   "execution_count": 11,
   "id": "4e33fc50",
   "metadata": {},
   "outputs": [
    {
     "data": {
      "text/plain": [
       "array([[11, 12, 13, 11],\n",
       "       [21, 22, 23, 24],\n",
       "       [31, 32, 33, 34]])"
      ]
     },
     "execution_count": 11,
     "metadata": {},
     "output_type": "execute_result"
    }
   ],
   "source": [
    "# Create a 2D numpy array from list of list\n",
    "arr2D = np.array([[11 ,12, 13, 11],\n",
    "                  [21, 22, 23, 24],\n",
    "                  [31, 32, 33, 34]])\n",
    "arr2D"
   ]
  },
  {
   "cell_type": "markdown",
   "id": "18406c3a",
   "metadata": {},
   "source": [
    "## Delete a column in 2D Numpy Array by column number"
   ]
  },
  {
   "cell_type": "code",
   "execution_count": 12,
   "id": "af6df7b4",
   "metadata": {},
   "outputs": [
    {
     "data": {
      "text/plain": [
       "array([[11, 13, 11],\n",
       "       [21, 23, 24],\n",
       "       [31, 33, 34]])"
      ]
     },
     "execution_count": 12,
     "metadata": {},
     "output_type": "execute_result"
    }
   ],
   "source": [
    "                                                                        # Delete column at index 1\n",
    "arr2D = np.delete(arr2D, 1, axis=1)\n",
    "arr2D"
   ]
  },
  {
   "cell_type": "markdown",
   "id": "d55e76c3",
   "metadata": {},
   "source": [
    "## Delete multiple columns in 2D Numpy Array by column number"
   ]
  },
  {
   "cell_type": "code",
   "execution_count": 13,
   "id": "be406e68",
   "metadata": {},
   "outputs": [
    {
     "data": {
      "text/plain": [
       "array([[11, 12],\n",
       "       [21, 22],\n",
       "       [31, 32]])"
      ]
     },
     "execution_count": 13,
     "metadata": {},
     "output_type": "execute_result"
    }
   ],
   "source": [
    "# Create a 2D numpy array from list of list\n",
    "arr2D = np.array([[11 ,12, 13, 11],\n",
    "                  [21, 22, 23, 24],\n",
    "                  [31, 32, 33, 34]])\n",
    "                                                                    # Delete column at index 2 and 3\n",
    "arr2D = np.delete(arr2D, [2,3], axis=1)\n",
    "arr2D"
   ]
  },
  {
   "cell_type": "markdown",
   "id": "9509df06",
   "metadata": {},
   "source": [
    "## Delete a row in 2D Numpy Array by row number"
   ]
  },
  {
   "cell_type": "code",
   "execution_count": 14,
   "id": "735d3daf",
   "metadata": {},
   "outputs": [
    {
     "data": {
      "text/plain": [
       "array([[11, 12, 13, 11],\n",
       "       [31, 32, 33, 34]])"
      ]
     },
     "execution_count": 14,
     "metadata": {},
     "output_type": "execute_result"
    }
   ],
   "source": [
    "# Create a 2D numpy array from list of list\n",
    "arr2D = np.array([[11 ,12, 13, 11],\n",
    "                  [21, 22, 23, 24],\n",
    "                  [31, 32, 33, 34]])\n",
    "                                                        # Delete row at index 1 i.e. second row\n",
    "arr2D = np.delete(arr2D, 1, axis=0)\n",
    "arr2D"
   ]
  },
  {
   "cell_type": "markdown",
   "id": "0133eb39",
   "metadata": {},
   "source": [
    "## Delete multiple rows in 2D Numpy Array by row number"
   ]
  },
  {
   "cell_type": "code",
   "execution_count": 15,
   "id": "37d7942b",
   "metadata": {},
   "outputs": [
    {
     "data": {
      "text/plain": [
       "array([[11, 12, 13, 11],\n",
       "       [21, 22, 23, 24],\n",
       "       [31, 32, 33, 34]])"
      ]
     },
     "execution_count": 15,
     "metadata": {},
     "output_type": "execute_result"
    }
   ],
   "source": [
    "# Create a 2D numpy array from list of list\n",
    "arr2D = np.array([[11 ,12, 13, 11],\n",
    "                  [21, 22, 23, 24],\n",
    "                  [31, 32, 33, 34]])\n",
    "arr2D"
   ]
  },
  {
   "cell_type": "code",
   "execution_count": 16,
   "id": "3964d582",
   "metadata": {},
   "outputs": [
    {
     "data": {
      "text/plain": [
       "array([[11, 12, 13, 11]])"
      ]
     },
     "execution_count": 16,
     "metadata": {},
     "output_type": "execute_result"
    }
   ],
   "source": [
    "                                                                # Delete rows at ro1 1 and 2\n",
    "arr2D = np.delete(arr2D, [1, 2], axis=0)\n",
    "arr2D"
   ]
  },
  {
   "cell_type": "markdown",
   "id": "df495612",
   "metadata": {},
   "source": [
    "# Delete specific elements in 1D Numpy Array by index position"
   ]
  },
  {
   "cell_type": "code",
   "execution_count": 20,
   "id": "c46cb59f",
   "metadata": {},
   "outputs": [
    {
     "data": {
      "text/plain": [
       "array([ 4,  5,  6,  7,  8,  9, 10, 11])"
      ]
     },
     "execution_count": 20,
     "metadata": {},
     "output_type": "execute_result"
    }
   ],
   "source": [
    "# Create a Numpy array from list of numbers\n",
    "arr = np.array([4,5,6,7,8,9,10,11])\n",
    "arr"
   ]
  },
  {
   "cell_type": "code",
   "execution_count": 21,
   "id": "1c4727ce",
   "metadata": {},
   "outputs": [
    {
     "data": {
      "text/plain": [
       "array([ 4,  6,  7,  8,  9, 10, 11])"
      ]
     },
     "execution_count": 21,
     "metadata": {},
     "output_type": "execute_result"
    }
   ],
   "source": [
    "                                   # Delete element in row 1 and column 1 from 2D numpy array\n",
    "modArr = np.delete(arr, 1) # Delete (5)\n",
    "modArr"
   ]
  },
  {
   "cell_type": "code",
   "execution_count": null,
   "id": "1ceca3ad",
   "metadata": {},
   "outputs": [],
   "source": []
  }
 ],
 "metadata": {
  "kernelspec": {
   "display_name": "Python 3",
   "language": "python",
   "name": "python3"
  },
  "language_info": {
   "codemirror_mode": {
    "name": "ipython",
    "version": 3
   },
   "file_extension": ".py",
   "mimetype": "text/x-python",
   "name": "python",
   "nbconvert_exporter": "python",
   "pygments_lexer": "ipython3",
   "version": "3.8.8"
  }
 },
 "nbformat": 4,
 "nbformat_minor": 5
}
