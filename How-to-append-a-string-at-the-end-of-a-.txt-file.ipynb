{
 "cells": [
  {
   "cell_type": "markdown",
   "id": "a03aace0",
   "metadata": {},
   "source": [
    "## How to append a string at the end of a .txt file"
   ]
  },
  {
   "cell_type": "code",
   "execution_count": 6,
   "id": "fea5af62",
   "metadata": {},
   "outputs": [],
   "source": [
    "# Open a file with access mode 'a'\n",
    "file_object = open('sample.txt', 'a')\n",
    "# Append 'hello' at the end of file\n",
    "file_object.write('hello sdfa \\n')\n",
    "# Close the file\n",
    "file_object.close()"
   ]
  },
  {
   "cell_type": "code",
   "execution_count": null,
   "id": "2d62e4f0",
   "metadata": {},
   "outputs": [],
   "source": []
  },
  {
   "cell_type": "code",
   "execution_count": null,
   "id": "9fa2b173",
   "metadata": {},
   "outputs": [],
   "source": []
  }
 ],
 "metadata": {
  "kernelspec": {
   "display_name": "Python 3 (ipykernel)",
   "language": "python",
   "name": "python3"
  },
  "language_info": {
   "codemirror_mode": {
    "name": "ipython",
    "version": 3
   },
   "file_extension": ".py",
   "mimetype": "text/x-python",
   "name": "python",
   "nbconvert_exporter": "python",
   "pygments_lexer": "ipython3",
   "version": "3.8.8"
  }
 },
 "nbformat": 4,
 "nbformat_minor": 5
}
