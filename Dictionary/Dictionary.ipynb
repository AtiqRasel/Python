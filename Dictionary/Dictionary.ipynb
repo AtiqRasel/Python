{
 "cells": [
  {
   "cell_type": "markdown",
   "id": "558c11e6",
   "metadata": {},
   "source": [
    "## Dictionaries"
   ]
  },
  {
   "cell_type": "markdown",
   "id": "984683d0",
   "metadata": {},
   "source": [
    "A dictionary is a collection which is unordered, changeable and indexed. They have keys and values."
   ]
  },
  {
   "cell_type": "code",
   "execution_count": 2,
   "id": "f96b7ed2",
   "metadata": {},
   "outputs": [
    {
     "data": {
      "text/plain": [
       "dict"
      ]
     },
     "execution_count": 2,
     "metadata": {},
     "output_type": "execute_result"
    }
   ],
   "source": [
    "dic={}\n",
    "type(dic)"
   ]
  },
  {
   "cell_type": "code",
   "execution_count": 3,
   "id": "acbf8b56",
   "metadata": {},
   "outputs": [],
   "source": [
    "## Let create a dictionary\n",
    "my_dict={\"Car1\": \"Audi\", \"Car2\":\"BMW\",\"Car3\":\"Mercidies Benz\"}"
   ]
  },
  {
   "cell_type": "markdown",
   "id": "4405c0dc",
   "metadata": {},
   "source": [
    "## How to access an element in a dictionary"
   ]
  },
  {
   "cell_type": "code",
   "execution_count": 5,
   "id": "3e59be40",
   "metadata": {},
   "outputs": [
    {
     "data": {
      "text/plain": [
       "'Audi'"
      ]
     },
     "execution_count": 5,
     "metadata": {},
     "output_type": "execute_result"
    }
   ],
   "source": [
    "##Access the item values based on keys\n",
    "my_dict['Car1']"
   ]
  },
  {
   "cell_type": "code",
   "execution_count": 6,
   "id": "0baaf4c8",
   "metadata": {},
   "outputs": [
    {
     "name": "stdout",
     "output_type": "stream",
     "text": [
      "Car1\n",
      "Car2\n",
      "Car3\n"
     ]
    }
   ],
   "source": [
    "# We can even loop throught the dictionaries keys\n",
    "for x in my_dict:\n",
    "    print(x)"
   ]
  },
  {
   "cell_type": "code",
   "execution_count": 7,
   "id": "a7c985c3",
   "metadata": {},
   "outputs": [
    {
     "name": "stdout",
     "output_type": "stream",
     "text": [
      "Audi\n",
      "BMW\n",
      "Mercidies Benz\n"
     ]
    }
   ],
   "source": [
    "# We can even loop throught the dictionaries values\n",
    "for x in my_dict.values():\n",
    "    print(x)"
   ]
  },
  {
   "cell_type": "code",
   "execution_count": 8,
   "id": "ed446b5e",
   "metadata": {},
   "outputs": [
    {
     "name": "stdout",
     "output_type": "stream",
     "text": [
      "('Car1', 'Audi')\n",
      "('Car2', 'BMW')\n",
      "('Car3', 'Mercidies Benz')\n"
     ]
    }
   ],
   "source": [
    "# We can also check both keys and values\n",
    "for x in my_dict.items():\n",
    "    print(x)"
   ]
  },
  {
   "cell_type": "markdown",
   "id": "f0bef2c5",
   "metadata": {},
   "source": [
    "## How to insert an element in a dictionary"
   ]
  },
  {
   "cell_type": "code",
   "execution_count": 9,
   "id": "7f96ebf4",
   "metadata": {},
   "outputs": [
    {
     "data": {
      "text/plain": [
       "{'Car1': 'Audi', 'Car2': 'BMW', 'Car3': 'Mercidies Benz', 'car4': 'Audi 2.0'}"
      ]
     },
     "execution_count": 9,
     "metadata": {},
     "output_type": "execute_result"
    }
   ],
   "source": [
    "## Adding items in Dictionaries\n",
    "my_dict['car4']='Audi 2.0' # 'car4' is a new key\n",
    "my_dict"
   ]
  },
  {
   "cell_type": "code",
   "execution_count": 12,
   "id": "926d6637",
   "metadata": {},
   "outputs": [
    {
     "data": {
      "text/plain": [
       "{'Car1': 'Audi',\n",
       " 'Car2': 'BMW',\n",
       " 'Car3': 'Mercidies Benz',\n",
       " 'car4': 'Audi7',\n",
       " 'car0': 'Audi3',\n",
       " 'car1': 'Audi4',\n",
       " 'car2': 'Audi5',\n",
       " 'car3': 'Audi6',\n",
       " 'car5': 'Audi8',\n",
       " 'car6': 'Audi9',\n",
       " 'car7': 'Audi10',\n",
       " 'car8': 'Audi11',\n",
       " 'car9': 'Audi12'}"
      ]
     },
     "execution_count": 12,
     "metadata": {},
     "output_type": "execute_result"
    }
   ],
   "source": [
    "# Adding multiple elements in dictionary\n",
    "for i in range(10):\n",
    "    my_dict['car{}'.format(i)]='Audi{}'.format(i+3)\n",
    "my_dict"
   ]
  },
  {
   "cell_type": "markdown",
   "id": "cb5aa2fd",
   "metadata": {},
   "source": [
    "## Nested Dictionary"
   ]
  },
  {
   "cell_type": "code",
   "execution_count": 14,
   "id": "3cea3cc0",
   "metadata": {},
   "outputs": [
    {
     "data": {
      "text/plain": [
       "{'car1': {'Mercedes': 1960},\n",
       " 'car2': {'Audi': 1970},\n",
       " 'car3': {'Ambassador': 1980}}"
      ]
     },
     "execution_count": 14,
     "metadata": {},
     "output_type": "execute_result"
    }
   ],
   "source": [
    "car1_model={'Mercedes':1960}\n",
    "car2_model={'Audi':1970}\n",
    "car3_model={'Ambassador':1980}\n",
    "\n",
    "car_type={'car1':car1_model,'car2':car2_model,'car3':car3_model}\n",
    "car_type"
   ]
  },
  {
   "cell_type": "code",
   "execution_count": 15,
   "id": "8ce2e54a",
   "metadata": {},
   "outputs": [
    {
     "name": "stdout",
     "output_type": "stream",
     "text": [
      "{'Mercedes': 1960}\n"
     ]
    }
   ],
   "source": [
    "## Accessing the items in the dictionary\n",
    "\n",
    "print(car_type['car1'])"
   ]
  },
  {
   "cell_type": "code",
   "execution_count": 16,
   "id": "3ce2204c",
   "metadata": {},
   "outputs": [
    {
     "name": "stdout",
     "output_type": "stream",
     "text": [
      "1960\n"
     ]
    }
   ],
   "source": [
    "print(car_type['car1']['Mercedes'])"
   ]
  },
  {
   "cell_type": "markdown",
   "id": "16455160",
   "metadata": {},
   "source": [
    "## Removing elements from Dictionary"
   ]
  },
  {
   "cell_type": "code",
   "execution_count": 17,
   "id": "609365a0",
   "metadata": {},
   "outputs": [
    {
     "data": {
      "text/plain": [
       "{'Car1': 'Audi',\n",
       " 'Car2': 'BMW',\n",
       " 'Car3': 'Mercidies Benz',\n",
       " 'car4': 'Audi7',\n",
       " 'car0': 'Audi3',\n",
       " 'car1': 'Audi4',\n",
       " 'car2': 'Audi5',\n",
       " 'car3': 'Audi6',\n",
       " 'car5': 'Audi8',\n",
       " 'car6': 'Audi9',\n",
       " 'car7': 'Audi10',\n",
       " 'car8': 'Audi11',\n",
       " 'car9': 'Audi12'}"
      ]
     },
     "execution_count": 17,
     "metadata": {},
     "output_type": "execute_result"
    }
   ],
   "source": [
    "my_dict"
   ]
  },
  {
   "cell_type": "code",
   "execution_count": 20,
   "id": "553e4e12",
   "metadata": {},
   "outputs": [
    {
     "name": "stdout",
     "output_type": "stream",
     "text": [
      "BMW\n"
     ]
    }
   ],
   "source": [
    "# remove a particular item using key, returns its value\n",
    "# Output: 16\n",
    "print(my_dict.pop('Car2'))"
   ]
  },
  {
   "cell_type": "code",
   "execution_count": 21,
   "id": "68186161",
   "metadata": {},
   "outputs": [
    {
     "data": {
      "text/plain": [
       "{'Car1': 'Audi',\n",
       " 'Car3': 'Mercidies Benz',\n",
       " 'car4': 'Audi7',\n",
       " 'car0': 'Audi3',\n",
       " 'car1': 'Audi4',\n",
       " 'car2': 'Audi5',\n",
       " 'car3': 'Audi6',\n",
       " 'car5': 'Audi8',\n",
       " 'car6': 'Audi9',\n",
       " 'car7': 'Audi10',\n",
       " 'car8': 'Audi11',\n",
       " 'car9': 'Audi12'}"
      ]
     },
     "execution_count": 21,
     "metadata": {},
     "output_type": "execute_result"
    }
   ],
   "source": [
    "my_dict"
   ]
  },
  {
   "cell_type": "code",
   "execution_count": 22,
   "id": "04fd4434",
   "metadata": {},
   "outputs": [
    {
     "name": "stdout",
     "output_type": "stream",
     "text": [
      "('car9', 'Audi12')\n"
     ]
    }
   ],
   "source": [
    "# remove an arbitrary item, return (key,value)\n",
    "print(my_dict.popitem())"
   ]
  },
  {
   "cell_type": "code",
   "execution_count": 24,
   "id": "b2f52093",
   "metadata": {},
   "outputs": [
    {
     "data": {
      "text/plain": [
       "{}"
      ]
     },
     "execution_count": 24,
     "metadata": {},
     "output_type": "execute_result"
    }
   ],
   "source": [
    "# remove all items\n",
    "my_dict.clear()\n",
    "my_dict"
   ]
  },
  {
   "cell_type": "code",
   "execution_count": 26,
   "id": "202c023e",
   "metadata": {},
   "outputs": [
    {
     "ename": "NameError",
     "evalue": "name 'my_dict' is not defined",
     "output_type": "error",
     "traceback": [
      "\u001b[1;31m---------------------------------------------------------------------------\u001b[0m",
      "\u001b[1;31mNameError\u001b[0m                                 Traceback (most recent call last)",
      "\u001b[1;32m<ipython-input-26-feaeac6738f1>\u001b[0m in \u001b[0;36m<module>\u001b[1;34m\u001b[0m\n\u001b[0;32m      1\u001b[0m \u001b[1;31m# delete the dictionary itself\u001b[0m\u001b[1;33m\u001b[0m\u001b[1;33m\u001b[0m\u001b[1;33m\u001b[0m\u001b[0m\n\u001b[1;32m----> 2\u001b[1;33m \u001b[1;32mdel\u001b[0m \u001b[0mmy_dict\u001b[0m\u001b[1;33m\u001b[0m\u001b[1;33m\u001b[0m\u001b[0m\n\u001b[0m\u001b[0;32m      3\u001b[0m \u001b[0mmy_dict\u001b[0m\u001b[1;33m\u001b[0m\u001b[1;33m\u001b[0m\u001b[0m\n",
      "\u001b[1;31mNameError\u001b[0m: name 'my_dict' is not defined"
     ]
    }
   ],
   "source": [
    "# delete the dictionary itself\n",
    "del my_dict\n",
    "my_dict"
   ]
  },
  {
   "cell_type": "markdown",
   "id": "483346f0",
   "metadata": {},
   "source": [
    "## Python Dictionary Comprehension"
   ]
  },
  {
   "cell_type": "code",
   "execution_count": 32,
   "id": "b9ebb5bc",
   "metadata": {},
   "outputs": [
    {
     "data": {
      "text/plain": [
       "{0: 0, 1: 1, 2: 4, 3: 9, 4: 16, 5: 25}"
      ]
     },
     "execution_count": 32,
     "metadata": {},
     "output_type": "execute_result"
    }
   ],
   "source": [
    "\n",
    "squares = {x: x*x for x in range(6)}\n",
    "squares"
   ]
  },
  {
   "cell_type": "code",
   "execution_count": 34,
   "id": "cf2b4806",
   "metadata": {},
   "outputs": [
    {
     "data": {
      "text/plain": [
       "{1: 1, 3: 9, 5: 25, 7: 49, 9: 81}"
      ]
     },
     "execution_count": 34,
     "metadata": {},
     "output_type": "execute_result"
    }
   ],
   "source": [
    "# Dictionary Comprehension with if conditional\n",
    "odd_squares = {x: x*x for x in range(11) if x % 2 == 1}\n",
    "odd_squares"
   ]
  },
  {
   "cell_type": "markdown",
   "id": "203a16fe",
   "metadata": {},
   "source": [
    "## Dictionary Membership Test"
   ]
  },
  {
   "cell_type": "code",
   "execution_count": 35,
   "id": "8290ff2a",
   "metadata": {},
   "outputs": [
    {
     "name": "stdout",
     "output_type": "stream",
     "text": [
      "True\n",
      "True\n",
      "False\n"
     ]
    }
   ],
   "source": [
    "# Membership Test for Dictionary Keys\n",
    "squares = {1: 1, 3: 9, 5: 25, 7: 49, 9: 81}\n",
    "\n",
    "# Output: True\n",
    "print(1 in squares)\n",
    "\n",
    "# Output: True\n",
    "print(2 not in squares)\n",
    "\n",
    "# membership tests for key only not value\n",
    "# Output: False\n",
    "print(49 in squares)"
   ]
  },
  {
   "cell_type": "markdown",
   "id": "997c1600",
   "metadata": {},
   "source": [
    "## Iterating Through a Dictionary"
   ]
  },
  {
   "cell_type": "code",
   "execution_count": 36,
   "id": "9ad0c75d",
   "metadata": {},
   "outputs": [
    {
     "name": "stdout",
     "output_type": "stream",
     "text": [
      "1\n",
      "9\n",
      "25\n",
      "49\n",
      "81\n"
     ]
    }
   ],
   "source": [
    "# Iterating through a Dictionary\n",
    "squares = {1: 1, 3: 9, 5: 25, 7: 49, 9: 81}\n",
    "for i in squares:\n",
    "    print(squares[i])"
   ]
  },
  {
   "cell_type": "markdown",
   "id": "56394f02",
   "metadata": {},
   "source": [
    "## Dictionary Built-in Functions"
   ]
  },
  {
   "cell_type": "code",
   "execution_count": 41,
   "id": "ec8e99ad",
   "metadata": {},
   "outputs": [
    {
     "data": {
      "text/plain": [
       "{1: 1, 7: 9, 5: 25, 6: 49, 2: 81}"
      ]
     },
     "execution_count": 41,
     "metadata": {},
     "output_type": "execute_result"
    }
   ],
   "source": [
    "squares = {1: 1, 7: 9, 5: 25, 6: 49, 2: 81}\n",
    "squares"
   ]
  },
  {
   "cell_type": "code",
   "execution_count": 42,
   "id": "15a52b87",
   "metadata": {},
   "outputs": [
    {
     "name": "stdout",
     "output_type": "stream",
     "text": [
      "5\n"
     ]
    },
    {
     "data": {
      "text/plain": [
       "{1: 1, 7: 9, 5: 25, 6: 49, 2: 81}"
      ]
     },
     "execution_count": 42,
     "metadata": {},
     "output_type": "execute_result"
    }
   ],
   "source": [
    "# Output: 6\n",
    "print(len(squares))\n",
    "squares"
   ]
  },
  {
   "cell_type": "code",
   "execution_count": 43,
   "id": "ac891638",
   "metadata": {},
   "outputs": [
    {
     "name": "stdout",
     "output_type": "stream",
     "text": [
      "[1, 2, 5, 6, 7]\n"
     ]
    }
   ],
   "source": [
    "# Output: [0, 1, 3, 5, 7, 9]\n",
    "print(sorted(squares))"
   ]
  },
  {
   "cell_type": "code",
   "execution_count": null,
   "id": "8b1cb2af",
   "metadata": {},
   "outputs": [],
   "source": []
  }
 ],
 "metadata": {
  "kernelspec": {
   "display_name": "Python 3",
   "language": "python",
   "name": "python3"
  },
  "language_info": {
   "codemirror_mode": {
    "name": "ipython",
    "version": 3
   },
   "file_extension": ".py",
   "mimetype": "text/x-python",
   "name": "python",
   "nbconvert_exporter": "python",
   "pygments_lexer": "ipython3",
   "version": "3.8.8"
  }
 },
 "nbformat": 4,
 "nbformat_minor": 5
}
