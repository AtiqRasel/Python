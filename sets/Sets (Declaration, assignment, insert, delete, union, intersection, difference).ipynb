{
 "cells": [
  {
   "cell_type": "markdown",
   "id": "b568e519",
   "metadata": {},
   "source": [
    "## SETS"
   ]
  },
  {
   "cell_type": "markdown",
   "id": "18a178e3",
   "metadata": {},
   "source": [
    "A Set is an unordered collection data type and has no duplicate elements."
   ]
  },
  {
   "cell_type": "code",
   "execution_count": 39,
   "id": "f50f8511",
   "metadata": {},
   "outputs": [
    {
     "name": "stdout",
     "output_type": "stream",
     "text": [
      "set()\n",
      "<class 'set'>\n"
     ]
    }
   ],
   "source": [
    "## Defining an empy set\n",
    "\n",
    "set_var= set()\n",
    "print(set_var)\n",
    "print(type(set_var))"
   ]
  },
  {
   "cell_type": "code",
   "execution_count": 40,
   "id": "ab23159b",
   "metadata": {},
   "outputs": [
    {
     "data": {
      "text/plain": [
       "{1, 2, 3, 4}"
      ]
     },
     "execution_count": 40,
     "metadata": {},
     "output_type": "execute_result"
    }
   ],
   "source": [
    "set_var={1,2,3,4,3}\n",
    "set_var"
   ]
  },
  {
   "cell_type": "code",
   "execution_count": 41,
   "id": "5c885c33",
   "metadata": {},
   "outputs": [
    {
     "name": "stdout",
     "output_type": "stream",
     "text": [
      "{'Hitman', 'Avengers', 'IronMan'}\n"
     ]
    },
    {
     "data": {
      "text/plain": [
       "set"
      ]
     },
     "execution_count": 41,
     "metadata": {},
     "output_type": "execute_result"
    }
   ],
   "source": [
    "set_var={\"Avengers\",\"IronMan\",'Hitman'}\n",
    "print(set_var)\n",
    "type(set_var)"
   ]
  },
  {
   "cell_type": "markdown",
   "id": "a701bba7",
   "metadata": {},
   "source": [
    "## How to add data in a set"
   ]
  },
  {
   "cell_type": "code",
   "execution_count": 42,
   "id": "05279955",
   "metadata": {},
   "outputs": [
    {
     "data": {
      "text/plain": [
       "{'Atiq', 'Avengers', 'Hitman', 'IronMan'}"
      ]
     },
     "execution_count": 42,
     "metadata": {},
     "output_type": "execute_result"
    }
   ],
   "source": [
    "## Inbuilt function in sets \n",
    "set_var.add(\"Atiq\")\n",
    "set_var # Add at the beggining of the set"
   ]
  },
  {
   "cell_type": "code",
   "execution_count": 43,
   "id": "df1e040e",
   "metadata": {},
   "outputs": [
    {
     "data": {
      "text/plain": [
       "{'Avengers', 'Hitman', 'IronMan'}"
      ]
     },
     "execution_count": 43,
     "metadata": {},
     "output_type": "execute_result"
    }
   ],
   "source": [
    "# Intersection operation\n",
    "# The intersection can be obtained with the & operator or the intersection() method.\n",
    "set8={}\n",
    "set1={\"Avengers\",\"IronMan\",'Hitman','Atiq'}\n",
    "set2={\"Avengers\",\"IronMan\",'Hitman','Hulk2'}\n",
    "set8=set2.intersection(set1)\n",
    "set8"
   ]
  },
  {
   "cell_type": "code",
   "execution_count": 45,
   "id": "a26bfa12",
   "metadata": {},
   "outputs": [
    {
     "data": {
      "text/plain": [
       "{'Avengers', 'Hitman', 'IronMan'}"
      ]
     },
     "execution_count": 45,
     "metadata": {},
     "output_type": "execute_result"
    }
   ],
   "source": [
    "s_intersection = set1.intersection(set2, set8)\n",
    "s_intersection"
   ]
  },
  {
   "cell_type": "code",
   "execution_count": 28,
   "id": "4e41d67e",
   "metadata": {},
   "outputs": [
    {
     "data": {
      "text/plain": [
       "{'Atiq', 'Avengers', 'Hitman', 'Hulk2', 'IronMan'}"
      ]
     },
     "execution_count": 28,
     "metadata": {},
     "output_type": "execute_result"
    }
   ],
   "source": [
    "# Union operation\n",
    "# The union can be obtained with the | operator or the union() method.\n",
    "set5={}\n",
    "set3={\"Avengers\",\"IronMan\",'Hitman','Atiq'}\n",
    "set4={\"Avengers\",\"IronMan\",'Hitman','Hulk2'}\n",
    "set5=set3.union(set4)\n",
    "set5\n"
   ]
  },
  {
   "cell_type": "code",
   "execution_count": 29,
   "id": "7ba9c153",
   "metadata": {},
   "outputs": [
    {
     "data": {
      "text/plain": [
       "{'Atiq', 'Avengers', 'Hitman', 'Hulk2', 'IronMan'}"
      ]
     },
     "execution_count": 29,
     "metadata": {},
     "output_type": "execute_result"
    }
   ],
   "source": [
    "set6={}\n",
    "set6=set3|set4\n",
    "set6"
   ]
  },
  {
   "cell_type": "code",
   "execution_count": 31,
   "id": "9680bd8b",
   "metadata": {},
   "outputs": [
    {
     "data": {
      "text/plain": [
       "{'Atiq', 'Avengers', 'Hitman', 'Hulk2', 'IronMan', 'a', 'b', 'c'}"
      ]
     },
     "execution_count": 31,
     "metadata": {},
     "output_type": "execute_result"
    }
   ],
   "source": [
    "# Multiple arguments can be specified for union().\n",
    "set5={}\n",
    "set3={\"Avengers\",\"IronMan\",'Hitman','Atiq'}\n",
    "set4={\"Avengers\",\"IronMan\",'Hitman','Hulk2'}\n",
    "set7={'a','b','c'}\n",
    "set5=set3.union(set4,set7)\n",
    "set5"
   ]
  },
  {
   "cell_type": "code",
   "execution_count": 7,
   "id": "124a708e",
   "metadata": {},
   "outputs": [
    {
     "data": {
      "text/plain": [
       "{'Atiq'}"
      ]
     },
     "execution_count": 7,
     "metadata": {},
     "output_type": "execute_result"
    }
   ],
   "source": [
    "##Difference \n",
    "set3.difference(set4)"
   ]
  },
  {
   "cell_type": "markdown",
   "id": "32ac3e70",
   "metadata": {},
   "source": [
    "## Assign values to a set using loop"
   ]
  },
  {
   "cell_type": "code",
   "execution_count": 13,
   "id": "0b7a7c3a",
   "metadata": {},
   "outputs": [
    {
     "name": "stdout",
     "output_type": "stream",
     "text": [
      "{0, 1, 2, 3, 4}\n"
     ]
    }
   ],
   "source": [
    "s = {i for i in range(5)}\n",
    "\n",
    "print(s)\n",
    "# {0, 1, 4, 9, 16}"
   ]
  },
  {
   "cell_type": "markdown",
   "id": "bf301ed1",
   "metadata": {},
   "source": [
    "## Remove an element from the set: discard(), remove(), pop(), clear()"
   ]
  },
  {
   "cell_type": "code",
   "execution_count": 15,
   "id": "54666e60",
   "metadata": {},
   "outputs": [
    {
     "name": "stdout",
     "output_type": "stream",
     "text": [
      "{0, 2}\n"
     ]
    }
   ],
   "source": [
    "# The discard() method deletes the element specified by the argument. If a value that does not exist in the set is specified, no action is taken.\n",
    "s = {0, 1, 2}\n",
    "\n",
    "s.discard(1)\n",
    "print(s)\n",
    "# {0, 2}\n",
    "\n"
   ]
  },
  {
   "cell_type": "code",
   "execution_count": 16,
   "id": "8d051b2f",
   "metadata": {},
   "outputs": [
    {
     "name": "stdout",
     "output_type": "stream",
     "text": [
      "{0, 1, 2}\n"
     ]
    }
   ],
   "source": [
    "s = {0, 1, 2}\n",
    "\n",
    "s.discard(10)\n",
    "print(s)\n",
    "# {0, 1, 2}"
   ]
  },
  {
   "cell_type": "code",
   "execution_count": 20,
   "id": "3253e636",
   "metadata": {},
   "outputs": [
    {
     "name": "stdout",
     "output_type": "stream",
     "text": [
      "{0, 2}\n"
     ]
    },
    {
     "ename": "KeyError",
     "evalue": "10",
     "output_type": "error",
     "traceback": [
      "\u001b[1;31m---------------------------------------------------------------------------\u001b[0m",
      "\u001b[1;31mKeyError\u001b[0m                                  Traceback (most recent call last)",
      "\u001b[1;32m<ipython-input-20-bb82ec66bb8f>\u001b[0m in \u001b[0;36m<module>\u001b[1;34m\u001b[0m\n\u001b[0;32m      8\u001b[0m \u001b[0ms\u001b[0m \u001b[1;33m=\u001b[0m \u001b[1;33m{\u001b[0m\u001b[1;36m0\u001b[0m\u001b[1;33m,\u001b[0m \u001b[1;36m1\u001b[0m\u001b[1;33m,\u001b[0m \u001b[1;36m2\u001b[0m\u001b[1;33m}\u001b[0m\u001b[1;33m\u001b[0m\u001b[1;33m\u001b[0m\u001b[0m\n\u001b[0;32m      9\u001b[0m \u001b[1;33m\u001b[0m\u001b[0m\n\u001b[1;32m---> 10\u001b[1;33m \u001b[0ms\u001b[0m\u001b[1;33m.\u001b[0m\u001b[0mremove\u001b[0m\u001b[1;33m(\u001b[0m\u001b[1;36m10\u001b[0m\u001b[1;33m)\u001b[0m\u001b[1;33m\u001b[0m\u001b[1;33m\u001b[0m\u001b[0m\n\u001b[0m\u001b[0;32m     11\u001b[0m \u001b[1;31m# KeyError: 10\u001b[0m\u001b[1;33m\u001b[0m\u001b[1;33m\u001b[0m\u001b[1;33m\u001b[0m\u001b[0m\n",
      "\u001b[1;31mKeyError\u001b[0m: 10"
     ]
    }
   ],
   "source": [
    "# The remove() method also removes the element specified by the argument, but it raises an error KeyError if a value that does not exist in the set is specified.\n",
    "s = {0, 1, 2}\n",
    "\n",
    "s.remove(1)\n",
    "print(s)\n",
    "# {0, 2}\n",
    "\n",
    "s = {0, 1, 2}\n",
    "\n",
    "s.remove(10)\n",
    "# KeyError: 10"
   ]
  },
  {
   "cell_type": "code",
   "execution_count": 23,
   "id": "f84870da",
   "metadata": {},
   "outputs": [
    {
     "name": "stdout",
     "output_type": "stream",
     "text": [
      "0\n"
     ]
    },
    {
     "data": {
      "text/plain": [
       "{1, 2}"
      ]
     },
     "execution_count": 23,
     "metadata": {},
     "output_type": "execute_result"
    }
   ],
   "source": [
    "# The pop() method removes an element from the set and returns its value. You cannot choose which values to remove. It raises an error KeyError if the set is empty.\n",
    "s = {2, 1, 0}\n",
    "v = s.pop()\n",
    "print(v)\n",
    "s"
   ]
  },
  {
   "cell_type": "code",
   "execution_count": 25,
   "id": "94d01353",
   "metadata": {},
   "outputs": [
    {
     "name": "stdout",
     "output_type": "stream",
     "text": [
      "2\n"
     ]
    },
    {
     "data": {
      "text/plain": [
       "set()"
      ]
     },
     "execution_count": 25,
     "metadata": {},
     "output_type": "execute_result"
    }
   ],
   "source": [
    "print(s.pop())\n",
    "s"
   ]
  },
  {
   "cell_type": "code",
   "execution_count": 26,
   "id": "31ebf2c7",
   "metadata": {},
   "outputs": [
    {
     "name": "stdout",
     "output_type": "stream",
     "text": [
      "set()\n"
     ]
    }
   ],
   "source": [
    "# The clear() method removes all elements from the set and makes it empty.\n",
    "s = {0, 1, 2}\n",
    "\n",
    "s.clear()\n",
    "print(s)"
   ]
  }
 ],
 "metadata": {
  "kernelspec": {
   "display_name": "Python 3",
   "language": "python",
   "name": "python3"
  },
  "language_info": {
   "codemirror_mode": {
    "name": "ipython",
    "version": 3
   },
   "file_extension": ".py",
   "mimetype": "text/x-python",
   "name": "python",
   "nbconvert_exporter": "python",
   "pygments_lexer": "ipython3",
   "version": "3.8.8"
  }
 },
 "nbformat": 4,
 "nbformat_minor": 5
}
