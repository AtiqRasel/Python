{
 "cells": [
  {
   "cell_type": "markdown",
   "id": "8dc9eda9",
   "metadata": {},
   "source": [
    "## Lists"
   ]
  },
  {
   "cell_type": "markdown",
   "id": "712fc209",
   "metadata": {},
   "source": [
    "A list is a data structure in Python that is a mutable, or changeable, ordered sequence of elements. Each element or value that is inside of a list is called an item. Just as strings are defined as characters between quotes, lists are defined by having values between square brackets [ ]"
   ]
  },
  {
   "cell_type": "code",
   "execution_count": 71,
   "id": "7214dbb6",
   "metadata": {},
   "outputs": [
    {
     "data": {
      "text/plain": [
       "list"
      ]
     },
     "execution_count": 71,
     "metadata": {},
     "output_type": "execute_result"
    }
   ],
   "source": [
    "type([])"
   ]
  },
  {
   "cell_type": "code",
   "execution_count": 72,
   "id": "21603558",
   "metadata": {},
   "outputs": [
    {
     "data": {
      "text/plain": [
       "list"
      ]
     },
     "execution_count": 72,
     "metadata": {},
     "output_type": "execute_result"
    }
   ],
   "source": [
    "lst_example=[]\n",
    "type(lst_example)"
   ]
  },
  {
   "cell_type": "code",
   "execution_count": 73,
   "id": "71153674",
   "metadata": {},
   "outputs": [],
   "source": [
    "# Alternative way for declaring a list\n",
    "lst=list()"
   ]
  },
  {
   "cell_type": "code",
   "execution_count": 74,
   "id": "fa6e9998",
   "metadata": {},
   "outputs": [],
   "source": [
    "lst=['Mathematics', 'chemistry', 100, 200, 300, 204]"
   ]
  },
  {
   "cell_type": "code",
   "execution_count": 75,
   "id": "9811d3ae",
   "metadata": {},
   "outputs": [
    {
     "data": {
      "text/plain": [
       "6"
      ]
     },
     "execution_count": 75,
     "metadata": {},
     "output_type": "execute_result"
    }
   ],
   "source": [
    "len(lst)"
   ]
  },
  {
   "cell_type": "markdown",
   "id": "9a34c1ef",
   "metadata": {},
   "source": [
    "## How to access an element in a  list"
   ]
  },
  {
   "cell_type": "code",
   "execution_count": 76,
   "id": "0c273b70",
   "metadata": {},
   "outputs": [
    {
     "name": "stdout",
     "output_type": "stream",
     "text": [
      "chemistry\n"
     ]
    }
   ],
   "source": [
    "print(lst[1])"
   ]
  },
  {
   "cell_type": "markdown",
   "id": "8815c4e9",
   "metadata": {},
   "source": [
    "## How to add an element in a list"
   ]
  },
  {
   "cell_type": "code",
   "execution_count": 77,
   "id": "6bec6c18",
   "metadata": {},
   "outputs": [
    {
     "data": {
      "text/plain": [
       "['Mathematics', 'chemistry', 100, 200, 300, 204, 'Krish']"
      ]
     },
     "execution_count": 77,
     "metadata": {},
     "output_type": "execute_result"
    }
   ],
   "source": [
    "#.append is used to add elements in the list\n",
    "lst.append(\"Krish\")\n",
    "lst"
   ]
  },
  {
   "cell_type": "code",
   "execution_count": 78,
   "id": "a43b962a",
   "metadata": {},
   "outputs": [
    {
     "data": {
      "text/plain": [
       "['Mathematics', 'chemistry', 100, 200, 300, 204, 'Krish', 'abc1', 'abc2']"
      ]
     },
     "execution_count": 78,
     "metadata": {},
     "output_type": "execute_result"
    }
   ],
   "source": [
    "# Add N=2 number of elements in a list\n",
    "for i in range(1,3):\n",
    "    lst.append('abc{}'.format(i))\n",
    "lst"
   ]
  },
  {
   "cell_type": "code",
   "execution_count": 79,
   "id": "76475888",
   "metadata": {},
   "outputs": [
    {
     "data": {
      "text/plain": [
       "['Mathematics',\n",
       " 'chemistry',\n",
       " 'Atiq',\n",
       " 100,\n",
       " 200,\n",
       " 300,\n",
       " 204,\n",
       " 'Krish',\n",
       " 'abc1',\n",
       " 'abc2']"
      ]
     },
     "execution_count": 79,
     "metadata": {},
     "output_type": "execute_result"
    }
   ],
   "source": [
    "#Add an element in a specific position in a list\n",
    "lst.insert(2,'Atiq')\n",
    "lst"
   ]
  },
  {
   "cell_type": "code",
   "execution_count": 80,
   "id": "1398378a",
   "metadata": {},
   "outputs": [
    {
     "data": {
      "text/plain": [
       "['Mathematics',\n",
       " 'chemistry',\n",
       " 'Atiq',\n",
       " 100,\n",
       " 200,\n",
       " 300,\n",
       " 204,\n",
       " 'Krish',\n",
       " 'abc1',\n",
       " 'abc2',\n",
       " ['Hello', 'World']]"
      ]
     },
     "execution_count": 80,
     "metadata": {},
     "output_type": "execute_result"
    }
   ],
   "source": [
    "# Add a list in an list\n",
    "lst.append([\"Hello\",\"World\"])\n",
    "lst"
   ]
  },
  {
   "cell_type": "code",
   "execution_count": 81,
   "id": "1370f7cd",
   "metadata": {},
   "outputs": [
    {
     "data": {
      "text/plain": [
       "['Mathematics',\n",
       " ['Rasel', 'Abc'],\n",
       " 'chemistry',\n",
       " 'Atiq',\n",
       " 100,\n",
       " 200,\n",
       " 300,\n",
       " 204,\n",
       " 'Krish',\n",
       " 'abc1',\n",
       " 'abc2',\n",
       " ['Hello', 'World']]"
      ]
     },
     "execution_count": 81,
     "metadata": {},
     "output_type": "execute_result"
    }
   ],
   "source": [
    "# Add a list in a specific position in an list\n",
    "lst.insert(1, [\"Rasel\",\"Abc\"])\n",
    "lst"
   ]
  },
  {
   "cell_type": "markdown",
   "id": "f5eaa5ce",
   "metadata": {},
   "source": [
    "## How to add an element in a list"
   ]
  },
  {
   "cell_type": "code",
   "execution_count": 82,
   "id": "70df79a0",
   "metadata": {},
   "outputs": [
    {
     "name": "stdout",
     "output_type": "stream",
     "text": [
      "[0, 1, 2, 3, 4, 5, 6, 7, 8, 9]\n",
      "[]\n"
     ]
    }
   ],
   "source": [
    "# Remove all items: clear()\n",
    "l = list(range(10))\n",
    "print(l)\n",
    "# [0, 1, 2, 3, 4, 5, 6, 7, 8, 9]\n",
    "\n",
    "l.clear()\n",
    "print(l)"
   ]
  },
  {
   "cell_type": "code",
   "execution_count": 83,
   "id": "563f5976",
   "metadata": {},
   "outputs": [
    {
     "name": "stdout",
     "output_type": "stream",
     "text": [
      "[0, 1, 2, 3, 4, 5, 6, 7, 8, 9]\n",
      "0\n",
      "[1, 2, 3, 4, 5, 6, 7, 8, 9]\n",
      "4\n",
      "[1, 2, 3, 5, 6, 7, 8, 9]\n"
     ]
    }
   ],
   "source": [
    "#Remove an item by index and get its value: pop()\n",
    "\n",
    "l = list(range(10)) # The index at the beginning is 0 (zero-based indexing).\n",
    "print(l)\n",
    "# [0, 1, 2, 3, 4, 5, 6, 7, 8, 9]\n",
    "\n",
    "print(l.pop(0))\n",
    "# 0\n",
    "\n",
    "print(l)\n",
    "# [1, 2, 3, 4, 5, 6, 7, 8, 9]\n",
    "\n",
    "print(l.pop(3))\n",
    "# 4\n",
    "\n",
    "print(l)\n",
    "# [1, 2, 3, 5, 6, 7, 8, 9]"
   ]
  },
  {
   "cell_type": "code",
   "execution_count": 84,
   "id": "b18f38b3",
   "metadata": {},
   "outputs": [
    {
     "name": "stdout",
     "output_type": "stream",
     "text": [
      "[1, 2, 3, 5, 6, 7, 8, 9]\n",
      "8\n",
      "[1, 2, 3, 5, 6, 7, 9]\n"
     ]
    }
   ],
   "source": [
    "# You can use negative values to specify the position from the end. The index at the end is -1.\n",
    "print(l)\n",
    "print(l.pop(-2))\n",
    "# 8\n",
    "\n",
    "print(l)\n",
    "# [1, 2, 3, 5, 6, 7, 9]"
   ]
  },
  {
   "cell_type": "code",
   "execution_count": 85,
   "id": "24aa1aea",
   "metadata": {},
   "outputs": [
    {
     "name": "stdout",
     "output_type": "stream",
     "text": [
      "[1, 2, 3, 5, 6, 7, 9]\n",
      "9\n",
      "[1, 2, 3, 5, 6, 7]\n"
     ]
    }
   ],
   "source": [
    "#If the argument is omitted, the last item is deleted.\n",
    "print(l)\n",
    "print(l.pop())\n",
    "# 9\n",
    "\n",
    "print(l)\n",
    "# [1, 2, 3, 5, 6, 7]"
   ]
  },
  {
   "cell_type": "code",
   "execution_count": 86,
   "id": "847fe9cc",
   "metadata": {},
   "outputs": [
    {
     "name": "stdout",
     "output_type": "stream",
     "text": [
      "['Alice', 'Bob', 'Charlie', 'Bob', 'Dave']\n",
      "['Bob', 'Charlie', 'Bob', 'Dave']\n"
     ]
    }
   ],
   "source": [
    "#Remove an item by value: remove()\n",
    "#If the list contains more than one matching the specified value, only the first one is deleted.\n",
    "l = ['Alice', 'Bob', 'Charlie', 'Bob', 'Dave']\n",
    "print(l)\n",
    "# ['Alice', 'Bob', 'Charlie', 'Bob', 'Dave']\n",
    "\n",
    "l.remove('Alice')\n",
    "print(l)\n",
    "# ['Bob', 'Charlie', 'Bob', 'Dave']"
   ]
  },
  {
   "cell_type": "code",
   "execution_count": 87,
   "id": "c075fb27",
   "metadata": {},
   "outputs": [
    {
     "name": "stdout",
     "output_type": "stream",
     "text": [
      "[0, 1, 2, 3, 4, 5, 6, 7, 8, 9]\n",
      "[1, 2, 3, 4, 5, 6, 7, 8, 9]\n",
      "[1, 2, 3, 4, 5, 6, 7, 8]\n",
      "[1, 2, 3, 4, 5, 6, 8]\n"
     ]
    }
   ],
   "source": [
    "#Remove items by index or slice: del\n",
    "#Specify the item to be deleted by index. The first index is 0, and the last index is -1.\n",
    "l = list(range(10))\n",
    "print(l)\n",
    "# [0, 1, 2, 3, 4, 5, 6, 7, 8, 9]\n",
    "\n",
    "del l[0]\n",
    "print(l)\n",
    "# [1, 2, 3, 4, 5, 6, 7, 8, 9]\n",
    "\n",
    "del l[-1]\n",
    "print(l)\n",
    "# [1, 2, 3, 4, 5, 6, 7, 8]\n",
    "\n",
    "del l[6]\n",
    "print(l)\n",
    "# [1, 2, 3, 4, 5, 6, 8]"
   ]
  },
  {
   "cell_type": "code",
   "execution_count": 88,
   "id": "f0f85688",
   "metadata": {},
   "outputs": [
    {
     "name": "stdout",
     "output_type": "stream",
     "text": [
      "[0, 1, 2, 3, 4, 5, 6, 7, 8, 9]\n",
      "[0, 1, 5, 6, 7, 8, 9]\n",
      "[3, 4, 5, 6, 7, 8, 9]\n",
      "[0, 1, 2, 3]\n",
      "[0, 1, 2, 3, 4, 5, 6]\n"
     ]
    }
   ],
   "source": [
    "# delete multiple items with slice.\n",
    "l = list(range(10))\n",
    "print(l)\n",
    "# [0, 1, 2, 3, 4, 5, 6, 7, 8, 9]\n",
    "\n",
    "del l[2:5]\n",
    "print(l)\n",
    "# [0, 1, 5, 6, 7, 8, 9]\n",
    "\n",
    "l = list(range(10))\n",
    "del l[:3]\n",
    "print(l)\n",
    "# [3, 4, 5, 6, 7, 8, 9]\n",
    "\n",
    "l = list(range(10))\n",
    "del l[4:]\n",
    "print(l)\n",
    "# [0, 1, 2, 3]\n",
    "\n",
    "l = list(range(10))\n",
    "del l[-3:]\n",
    "print(l)\n",
    "# [0, 1, 2, 3, 4, 5, 6]"
   ]
  },
  {
   "cell_type": "code",
   "execution_count": 89,
   "id": "55ff7c23",
   "metadata": {},
   "outputs": [
    {
     "name": "stdout",
     "output_type": "stream",
     "text": [
      "[0, 1, 2, 3, 4, 5, 6, 7, 8, 9]\n",
      "[0, 2, 4, 6, 8]\n",
      "[1, 3, 5, 7, 9]\n",
      "[0, 1, 2, 3, 4, 5, 6, 7, 8, 9]\n"
     ]
    }
   ],
   "source": [
    "#Remove items that meet the condition: List comprehensions\n",
    "l = list(range(10))\n",
    "print(l)\n",
    "# [0, 1, 2, 3, 4, 5, 6, 7, 8, 9]\n",
    "\n",
    "print([i for i in l if i % 2 == 0])\n",
    "# [0, 2, 4, 6, 8]\n",
    "\n",
    "print([i for i in l if i % 2 != 0])\n",
    "# [1, 3, 5, 7, 9]\n",
    "\n",
    "print(l)\n",
    "# [0, 1, 2, 3, 4, 5, 6, 7, 8, 9]"
   ]
  },
  {
   "cell_type": "markdown",
   "id": "bf7b5189",
   "metadata": {},
   "source": [
    "## Various Operations that we can perform in List\n"
   ]
  },
  {
   "cell_type": "code",
   "execution_count": 122,
   "id": "941b89d9",
   "metadata": {},
   "outputs": [
    {
     "data": {
      "text/plain": [
       "16"
      ]
     },
     "execution_count": 122,
     "metadata": {},
     "output_type": "execute_result"
    }
   ],
   "source": [
    "lst=[2,1, 3,4,1, 5]\n",
    "sum(lst)"
   ]
  },
  {
   "cell_type": "code",
   "execution_count": 123,
   "id": "7754b3c1",
   "metadata": {},
   "outputs": [
    {
     "data": {
      "text/plain": [
       "[2, 1, 3, 4, 1, 5]"
      ]
     },
     "execution_count": 123,
     "metadata": {},
     "output_type": "execute_result"
    }
   ],
   "source": [
    "#add the same list five times\n",
    "lst*5,\n",
    "lst"
   ]
  },
  {
   "cell_type": "code",
   "execution_count": 124,
   "id": "2d158d5f",
   "metadata": {},
   "outputs": [
    {
     "data": {
      "text/plain": [
       "2"
      ]
     },
     "execution_count": 124,
     "metadata": {},
     "output_type": "execute_result"
    }
   ],
   "source": [
    "# Count number of 1's in the list\n",
    "lst.count(1)"
   ]
  },
  {
   "cell_type": "code",
   "execution_count": 125,
   "id": "b109d532",
   "metadata": {},
   "outputs": [
    {
     "data": {
      "text/plain": [
       "6"
      ]
     },
     "execution_count": 125,
     "metadata": {},
     "output_type": "execute_result"
    }
   ],
   "source": [
    "#length:Calculates total length of List\n",
    "len(lst)"
   ]
  },
  {
   "cell_type": "code",
   "execution_count": 126,
   "id": "6e375bea",
   "metadata": {},
   "outputs": [
    {
     "data": {
      "text/plain": [
       "1"
      ]
     },
     "execution_count": 126,
     "metadata": {},
     "output_type": "execute_result"
    }
   ],
   "source": [
    "# index(): Returns the index of first occurrence. Start and End index are not necessary parameters\n",
    "lst.index(1,0,4) #index(value, startposition, endposition)"
   ]
  },
  {
   "cell_type": "code",
   "execution_count": 127,
   "id": "5b750f08",
   "metadata": {},
   "outputs": [
    {
     "data": {
      "text/plain": [
       "1"
      ]
     },
     "execution_count": 127,
     "metadata": {},
     "output_type": "execute_result"
    }
   ],
   "source": [
    "##Min and Max\n",
    "min(lst)"
   ]
  },
  {
   "cell_type": "code",
   "execution_count": 128,
   "id": "d9374eed",
   "metadata": {},
   "outputs": [
    {
     "data": {
      "text/plain": [
       "5"
      ]
     },
     "execution_count": 128,
     "metadata": {},
     "output_type": "execute_result"
    }
   ],
   "source": [
    "\n",
    "max(lst)"
   ]
  },
  {
   "cell_type": "markdown",
   "id": "9eabc603",
   "metadata": {},
   "source": [
    "## List update/Replace"
   ]
  },
  {
   "cell_type": "code",
   "execution_count": 129,
   "id": "9b9afdd9",
   "metadata": {},
   "outputs": [
    {
     "data": {
      "text/plain": [
       "[123, 1, 3, 4, 1, 5]"
      ]
     },
     "execution_count": 129,
     "metadata": {},
     "output_type": "execute_result"
    }
   ],
   "source": [
    "\n",
    "lst[0]=123\n",
    "lst"
   ]
  }
 ],
 "metadata": {
  "kernelspec": {
   "display_name": "Python 3",
   "language": "python",
   "name": "python3"
  },
  "language_info": {
   "codemirror_mode": {
    "name": "ipython",
    "version": 3
   },
   "file_extension": ".py",
   "mimetype": "text/x-python",
   "name": "python",
   "nbconvert_exporter": "python",
   "pygments_lexer": "ipython3",
   "version": "3.8.8"
  }
 },
 "nbformat": 4,
 "nbformat_minor": 5
}
