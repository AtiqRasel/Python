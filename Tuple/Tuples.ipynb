{
 "cells": [
  {
   "cell_type": "markdown",
   "id": "bcbbf819",
   "metadata": {},
   "source": [
    "## Tuples"
   ]
  },
  {
   "cell_type": "code",
   "execution_count": 2,
   "id": "437ebc7f",
   "metadata": {},
   "outputs": [
    {
     "data": {
      "text/plain": [
       "tuple"
      ]
     },
     "execution_count": 2,
     "metadata": {},
     "output_type": "execute_result"
    }
   ],
   "source": [
    "## create an empty Tuples\n",
    "my_tuple=tuple()\n",
    "type(my_tuple)"
   ]
  },
  {
   "cell_type": "code",
   "execution_count": 3,
   "id": "13cc7044",
   "metadata": {},
   "outputs": [
    {
     "data": {
      "text/plain": [
       "tuple"
      ]
     },
     "execution_count": 3,
     "metadata": {},
     "output_type": "execute_result"
    }
   ],
   "source": [
    "# Alternative way of tuple diclaration\n",
    "my_tuple=()\n",
    "type(my_tuple)"
   ]
  },
  {
   "cell_type": "code",
   "execution_count": 5,
   "id": "8892d9a1",
   "metadata": {},
   "outputs": [
    {
     "data": {
      "text/plain": [
       "(12, 34, 45, 22, 33)"
      ]
     },
     "execution_count": 5,
     "metadata": {},
     "output_type": "execute_result"
    }
   ],
   "source": [
    "# Create a tuple\n",
    "tupleObj = (12 , 34, 45, 22, 33 )\n",
    "tupleObj"
   ]
  },
  {
   "cell_type": "markdown",
   "id": "7c7809e0",
   "metadata": {},
   "source": [
    "## Append 19 at the end of tuple"
   ]
  },
  {
   "cell_type": "code",
   "execution_count": 6,
   "id": "32877ccf",
   "metadata": {},
   "outputs": [
    {
     "data": {
      "text/plain": [
       "(12, 34, 45, 22, 33, 19)"
      ]
     },
     "execution_count": 6,
     "metadata": {},
     "output_type": "execute_result"
    }
   ],
   "source": [
    "# Append 19 at the end of tuple\n",
    "tupleObj = tupleObj + (19 ,)\n",
    "tupleObj"
   ]
  },
  {
   "cell_type": "markdown",
   "id": "d79d9d94",
   "metadata": {},
   "source": [
    "## Insert an element at specific position in tuple"
   ]
  },
  {
   "cell_type": "code",
   "execution_count": 7,
   "id": "ca111588",
   "metadata": {},
   "outputs": [
    {
     "data": {
      "text/plain": [
       "6"
      ]
     },
     "execution_count": 7,
     "metadata": {},
     "output_type": "execute_result"
    }
   ],
   "source": [
    "n=len(tupleObj)\n",
    "n"
   ]
  },
  {
   "cell_type": "code",
   "execution_count": 8,
   "id": "af04b224",
   "metadata": {},
   "outputs": [
    {
     "data": {
      "text/plain": [
       "(12, 34, 45, 100, 22, 33, 19)"
      ]
     },
     "execution_count": 8,
     "metadata": {},
     "output_type": "execute_result"
    }
   ],
   "source": [
    "# Insert 100 in tuple at index 3\n",
    "tupleObj = tupleObj[ : n-3 ] + (100 ,) + tupleObj[n-3 : ]\n",
    "tupleObj"
   ]
  },
  {
   "cell_type": "markdown",
   "id": "6b330dcb",
   "metadata": {},
   "source": [
    "## Modify / Replace the element at specific index in tuple"
   ]
  },
  {
   "cell_type": "code",
   "execution_count": 9,
   "id": "8b3a08fb",
   "metadata": {},
   "outputs": [
    {
     "data": {
      "text/plain": [
       "7"
      ]
     },
     "execution_count": 9,
     "metadata": {},
     "output_type": "execute_result"
    }
   ],
   "source": [
    "n=len(tupleObj)\n",
    "n"
   ]
  },
  {
   "cell_type": "code",
   "execution_count": 12,
   "id": "959339b2",
   "metadata": {},
   "outputs": [
    {
     "data": {
      "text/plain": [
       "(12, 34, 45, 100, 22, '2021', 19)"
      ]
     },
     "execution_count": 12,
     "metadata": {},
     "output_type": "execute_result"
    }
   ],
   "source": [
    "# Replace the element at index n-1 to 'Test'\n",
    "tupleObj = tupleObj[ : n-2] + ('2021' ,) + tupleObj[n -1 : ]\n",
    "tupleObj"
   ]
  },
  {
   "cell_type": "markdown",
   "id": "dec38896",
   "metadata": {},
   "source": [
    "## Delete an element at specific index in tuple"
   ]
  },
  {
   "cell_type": "code",
   "execution_count": 13,
   "id": "42bdc99c",
   "metadata": {},
   "outputs": [
    {
     "data": {
      "text/plain": [
       "(12, 34, 45, 22, 33, 19)"
      ]
     },
     "execution_count": 13,
     "metadata": {},
     "output_type": "execute_result"
    }
   ],
   "source": [
    "tupleObj =(12, 34, 'test', 45, 22, 33, 19)\n",
    "# Delete the element at index 2 \n",
    "tupleObj = tupleObj[ : 2 ] + tupleObj[3 : ]\n",
    "tupleObj"
   ]
  },
  {
   "cell_type": "code",
   "execution_count": null,
   "id": "112dbd7b",
   "metadata": {},
   "outputs": [],
   "source": []
  }
 ],
 "metadata": {
  "kernelspec": {
   "display_name": "Python 3",
   "language": "python",
   "name": "python3"
  },
  "language_info": {
   "codemirror_mode": {
    "name": "ipython",
    "version": 3
   },
   "file_extension": ".py",
   "mimetype": "text/x-python",
   "name": "python",
   "nbconvert_exporter": "python",
   "pygments_lexer": "ipython3",
   "version": "3.8.8"
  }
 },
 "nbformat": 4,
 "nbformat_minor": 5
}
